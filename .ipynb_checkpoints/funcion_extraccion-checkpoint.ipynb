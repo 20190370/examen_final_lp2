{
 "cells": [
  {
   "cell_type": "code",
   "execution_count": 1,
   "id": "37e97b6b",
   "metadata": {},
   "outputs": [],
   "source": [
    "def extraer_informacion(url, archivo_csv):\n",
    "    #Importamos librerias\n",
    "    import requests\n",
    "    from bs4 import BeautifulSoup\n",
    "    import urllib.parse\n",
    "    import csv\n",
    "\n",
    "    # Crea una lista para almacenar los enlaces\n",
    "    link_list = []\n",
    "\n",
    "    # Establece un límite para el número de páginas a procesar\n",
    "    limit = 500\n",
    "\n",
    "    # Establece el offset inicial\n",
    "    of = 0\n",
    "\n",
    "    while of<limit:\n",
    "        # Realiza una solicitud HTTP a la página web con el offset actual\n",
    "        response = requests.get(f\"{url}/recent-submissions?offset={of}\")\n",
    "\n",
    "        # Obtiene el HTML de la respuesta\n",
    "        html = response.text\n",
    "\n",
    "        # Crea un objeto BeautifulSoup a partir del HTML\n",
    "        soup = BeautifulSoup(html, \"html.parser\")\n",
    "        \n",
    "        # Parsea la URL\n",
    "        parsed_url = urllib.parse.urlparse(\"{}/recent-submissions?offset={}\".format(url, of))\n",
    "        # Obtiene el contenido principal de la URL (todo antes del /repositorio)\n",
    "        url_base = parsed_url.scheme + '://' + parsed_url.netloc\n",
    "\n",
    "        # Busca todos los enlaces <a> en el HTML con clase image-link \n",
    "        # Esto permite buscar los hrefs que estan ligados a las imagenes(thumbnails) de cada tesis\n",
    "        # Solo funciona si el repositorio usa thumbnails\n",
    "        links = soup.find_all(\"a\",{\"class\":\"image-link\"})\n",
    "        hrefs1 = [url_base + a[\"href\"] for a in links]\n",
    "\n",
    "        # Itera sobre cada enlace y agrega su atributo \"href\" a la lista\n",
    "        for link in hrefs1:\n",
    "            link_list.append(link)\n",
    "\n",
    "        # Incrementa el offset para la siguiente iteración\n",
    "        of += 20\n",
    "\n",
    "    # Acesso a la tabla de metadatos añadiendo ?show=full\n",
    "    links_full = [link + '?show=full' for link in link_list]\n",
    "\n",
    "    # Abre un archivo CSV en modo escritura\n",
    "    with open(archivo_csv, 'w', newline='') as csvfile:\n",
    "        # Crea el objeto escritor\n",
    "        writer = csv.writer(csvfile)\n",
    "        # Escribe la cabecera del archivo CSV\n",
    "        writer.writerow(['Autores', 'Asesores', 'Título', 'Resumen', 'Año', 'Institución', 'Grado'])\n",
    "\n",
    "        # Recorre cada link\n",
    "        for link in links_full:\n",
    "            # Descarga el contenido del link\n",
    "            html = requests.get(link).text\n",
    "            # Parsea el contenido del link\n",
    "            soup = BeautifulSoup(html, 'html.parser')\n",
    "\n",
    "            # Obtiene la información de cada link\n",
    "            \n",
    "            # Autores: como pueden ser varios se usa un bucle for\n",
    "            authors = [element['content'] for element in soup.find_all('meta', {'name': 'citation_author'})]\n",
    "            \n",
    "            # Asesores y Grado: se usa find_next_sibling porque existe un problema de identificación con la etiqueta \"td\"\n",
    "            asesores = [element.find_next_sibling().text for element in soup.find_all('td', string='dc.contributor.advisor')]\n",
    "            grado = [element.find_next_sibling().text for element in soup.find_all('td', string='thesis.degree.name')]\n",
    "            \n",
    "            # Titulo, Resumen, Año e Institución: cuando la etiqueta es \"meta\" es más fácil de encontrar\n",
    "            titulo = soup.find('meta', {'name': 'citation_title'})['content']\n",
    "            abstract = soup.find('meta', {'name': \"DCTERMS.abstract\"})['content']\n",
    "            año = soup.find('meta', {'name': \"citation_date\"})['content']\n",
    "            institucion = soup.find('meta', {'name': 'citation_publisher'})['content']\n",
    "            \n",
    "\n",
    "            # Escribe la fila en el archivo CSV\n",
    "            writer.writerow([authors, asesores, titulo, abstract, año, institucion, grado])"
   ]
  },
  {
   "cell_type": "code",
   "execution_count": 46,
   "id": "fae2323f",
   "metadata": {},
   "outputs": [],
   "source": [
    "#extraemos 3 csv de los 3 repositorios\n",
    "extraer_informacion(\"https://repositorio.esan.edu.pe/handle/20.500.12640/1814\", \"esan_repo.csv\")"
   ]
  },
  {
   "cell_type": "code",
   "execution_count": null,
   "id": "ed42661b",
   "metadata": {},
   "outputs": [],
   "source": [
    "extraer_informacion(\"https://tesis.pucp.edu.pe/repositorio/handle/20.500.12404/757\", \"pucp_repo.csv\")"
   ]
  },
  {
   "cell_type": "code",
   "execution_count": 47,
   "id": "af62bf69",
   "metadata": {},
   "outputs": [],
   "source": [
    "extraer_informacion(\"https://repositorioacademico.upc.edu.pe/handle/10757/621395\", \"upc_repo.csv\")"
   ]
  },
  {
   "cell_type": "code",
   "execution_count": null,
   "id": "cb41fe0c",
   "metadata": {},
   "outputs": [],
   "source": [
    "# Información estadistica importante"
   ]
  },
  {
   "cell_type": "code",
   "execution_count": 61,
   "id": "4885ba88",
   "metadata": {},
   "outputs": [],
   "source": [
    "\n",
    "import pandas as pd\n",
    "\n",
    "# Leemos los datasets\n",
    "esan_df = pd.read_csv(\"esan_repo.csv\")\n",
    "pucp_df = pd.read_csv(\"pucp_repo.csv\")\n",
    "upc_df = pd.read_csv(\"upc_repo.csv\")\n",
    "\n",
    "# Concatenamos los dataframes en uno solo\n",
    "df = pd.concat([esan_df, pucp_df, upc_df])\n",
    "\n",
    "# Reseteamos los indexes para evitar errores\n",
    "df = df.reset_index()\n"
   ]
  },
  {
   "cell_type": "code",
   "execution_count": 62,
   "id": "4e84de43",
   "metadata": {},
   "outputs": [
    {
     "name": "stdout",
     "output_type": "stream",
     "text": [
      "Universidad Peruana de Ciencias Aplicadas (UPC)    395\n",
      "Universidad ESAN                                    89\n",
      "Pontificia Universidad Católica del Perú            61\n",
      "Name: Institución, dtype: int64\n"
     ]
    }
   ],
   "source": [
    "# Contamos la cantidad de tesis por institución\n",
    "tesis_por_institucion = df[\"Institución\"].value_counts()\n",
    "\n",
    "print(tesis_por_institucion)"
   ]
  },
  {
   "cell_type": "code",
   "execution_count": 63,
   "id": "18461f7c",
   "metadata": {},
   "outputs": [
    {
     "data": {
      "image/png": "[encoded data removed]",
      "text/plain": [
       "<Figure size 432x288 with 1 Axes>"
      ]
     },
     "metadata": {
      "needs_background": "light"
     },
     "output_type": "display_data"
    }
   ],
   "source": [
    "import matplotlib.pyplot as plt\n",
    "\n",
    "#Graficamos la cantidad de tesis por institución\n",
    "\n",
    "# Dibujamos el gráfico de barras\n",
    "tesis_por_institucion.plot.bar(\n",
    "    # Usamos colores especificos para cada barra\n",
    "    color=[\"#1f77b4\", \"#ff7f0e\", \"#2ca02c\"],\n",
    "    # Añadimos un título al gráfico\n",
    "    title=\"Tesis por institución\",\n",
    "    # Añadimos un título a cada eje\n",
    "    xlabel=\"Institución\",\n",
    "    ylabel=\"Número de tesis\",\n",
    ")\n",
    "\n",
    "# Mostramos el gráfico\n",
    "plt.show()"
   ]
  },
  {
   "cell_type": "code",
   "execution_count": 64,
   "id": "05f0b161",
   "metadata": {},
   "outputs": [],
   "source": [
    "# Las variables de interés son: Años, Autores y Asesores\n",
    "\n",
    "# Referente a Años\n",
    "\n",
    "# Convertimos la columna \"año\" a tipo datetime\n",
    "df[\"Año\"] = pd.to_datetime(df[\"Año\"], utc=True)\n",
    "\n",
    "# Seleccionamos solo el año con la propiedad dt.year\n",
    "df[\"Año\"] = df[\"Año\"].dt.year"
   ]
  },
  {
   "cell_type": "code",
   "execution_count": 65,
   "id": "6fc8339a",
   "metadata": {},
   "outputs": [
    {
     "data": {
      "image/png": "[encoded data removed]",
      "text/plain": [
       "<Figure size 432x288 with 1 Axes>"
      ]
     },
     "metadata": {
      "needs_background": "light"
     },
     "output_type": "display_data"
    }
   ],
   "source": [
    "# Gráfico general de tesis por año\n",
    "\n",
    "# Contamos la cantidad de tesis por año\n",
    "tesis_por_año = df[\"Año\"].value_counts()\n",
    "\n",
    "# Graficamos la cantidad de tesis por año\n",
    "tesis_por_año.plot.bar()\n",
    "plt.show()"
   ]
  },
  {
   "cell_type": "code",
   "execution_count": 66,
   "id": "67b1a902",
   "metadata": {},
   "outputs": [
    {
     "name": "stdout",
     "output_type": "stream",
     "text": [
      "Promedio de tesis por año: 41.92\n"
     ]
    }
   ],
   "source": [
    "# Ahora podemos calcular el promedio de tesis por año\n",
    "promedio_tesis_por_año = tesis_por_año.mean()\n",
    "\n",
    "# Mostramos el resultado\n",
    "print(f\"Promedio de tesis por año: {promedio_tesis_por_año:.2f}\")"
   ]
  },
  {
   "cell_type": "code",
   "execution_count": 67,
   "id": "7786f1a2",
   "metadata": {},
   "outputs": [
    {
     "data": {
      "image/png": "[encoded data removed]",
      "text/plain": [
       "<Figure size 432x288 with 1 Axes>"
      ]
     },
     "metadata": {
      "needs_background": "light"
     },
     "output_type": "display_data"
    }
   ],
   "source": [
    "# Gráfico de tesis por año, diferenciando la institución\n",
    "\n",
    "# Contamos la cantidad de tesis por año y por institución\n",
    "tesis_por_año_e_institucion = df.groupby([\"Año\", \"Institución\"]).size().reset_index(name=\"Cantidad\")\n",
    "\n",
    "# Creamos un dataframe con la cantidad de tesis por año y por institución\n",
    "df_tesis = pd.pivot_table(tesis_por_año_e_institucion, index=\"Año\", columns=\"Institución\", values=\"Cantidad\", fill_value=0)\n",
    "\n",
    "# Graficamos el dataframe como un gráfico de barras apiladas\n",
    "df_tesis.plot.bar(stacked=True)\n",
    "\n",
    "\n",
    "plt.show()\n"
   ]
  },
  {
   "cell_type": "code",
   "execution_count": 68,
   "id": "e7451589",
   "metadata": {},
   "outputs": [
    {
     "name": "stdout",
     "output_type": "stream",
     "text": [
      "La institución Pontificia Universidad Católica del Perú publicó la mayor cantidad de tesis en el año 2021\n",
      "La institución Universidad ESAN publicó la mayor cantidad de tesis en el año 1970\n",
      "La institución Universidad Peruana de Ciencias Aplicadas (UPC) publicó la mayor cantidad de tesis en el año 2013\n"
     ]
    }
   ],
   "source": [
    "# Agrupamos el DataFrame por institución y contamos la cantidad de tesis por año\n",
    "tesis_por_institucion = df.groupby([\"Institución\", \"Año\"])[\"Año\"].count()\n",
    "\n",
    "# Iteramos sobre cada institución y obtenemos el año donde se publicó la mayor cantidad de tesis\n",
    "for institucion, tesis_por_año in tesis_por_institucion.groupby(level=0):\n",
    "    # Obtenemos el año con la mayor cantidad de tesis\n",
    "    año_con_mas_tesis = tesis_por_año.idxmax()[1]\n",
    "    print(f\"La institución {institucion} publicó la mayor cantidad de tesis en el año {año_con_mas_tesis}\")"
   ]
  },
  {
   "cell_type": "code",
   "execution_count": 69,
   "id": "299e5313",
   "metadata": {},
   "outputs": [
    {
     "data": {
      "text/html": [
       "<div>\n",
       "<style scoped>\n",
       "    .dataframe tbody tr th:only-of-type {\n",
       "        vertical-align: middle;\n",
       "    }\n",
       "\n",
       "    .dataframe tbody tr th {\n",
       "        vertical-align: top;\n",
       "    }\n",
       "\n",
       "    .dataframe thead th {\n",
       "        text-align: right;\n",
       "    }\n",
       "</style>\n",
       "<table border=\"1\" class=\"dataframe\">\n",
       "  <thead>\n",
       "    <tr style=\"text-align: right;\">\n",
       "      <th></th>\n",
       "      <th>mean</th>\n",
       "      <th>std</th>\n",
       "      <th>nunique</th>\n",
       "    </tr>\n",
       "    <tr>\n",
       "      <th>Institución</th>\n",
       "      <th></th>\n",
       "      <th></th>\n",
       "      <th></th>\n",
       "    </tr>\n",
       "  </thead>\n",
       "  <tbody>\n",
       "    <tr>\n",
       "      <th>Pontificia Universidad Católica del Perú</th>\n",
       "      <td>6.100000</td>\n",
       "      <td>2.960856</td>\n",
       "      <td>5</td>\n",
       "    </tr>\n",
       "    <tr>\n",
       "      <th>Universidad ESAN</th>\n",
       "      <td>89.000000</td>\n",
       "      <td>NaN</td>\n",
       "      <td>1</td>\n",
       "    </tr>\n",
       "    <tr>\n",
       "      <th>Universidad Peruana de Ciencias Aplicadas (UPC)</th>\n",
       "      <td>32.916667</td>\n",
       "      <td>26.265976</td>\n",
       "      <td>9</td>\n",
       "    </tr>\n",
       "  </tbody>\n",
       "</table>\n",
       "</div>"
      ],
      "text/plain": [
       "                                                      mean        std  nunique\n",
       "Institución                                                                   \n",
       "Pontificia Universidad Católica del Perú          6.100000   2.960856        5\n",
       "Universidad ESAN                                 89.000000        NaN        1\n",
       "Universidad Peruana de Ciencias Aplicadas (UPC)  32.916667  26.265976        9"
      ]
     },
     "execution_count": 69,
     "metadata": {},
     "output_type": "execute_result"
    }
   ],
   "source": [
    "tesis_por_año_e_institucion.groupby('Institución').Cantidad.agg(['mean', 'std', 'nunique'])"
   ]
  },
  {
   "cell_type": "code",
   "execution_count": 70,
   "id": "3c429108",
   "metadata": {},
   "outputs": [],
   "source": [
    "# Referente a Autores y Asesores\n",
    "\n",
    "# Convertimos el formato de Autores y Asesores de string a list\n",
    "\n",
    "import ast\n",
    "\n",
    "df['Autores'] = df['Autores'].apply(lambda x: ast.literal_eval(x))"
   ]
  },
  {
   "cell_type": "code",
   "execution_count": 71,
   "id": "d845a922",
   "metadata": {},
   "outputs": [],
   "source": [
    "df['Asesores'] = df['Asesores'].apply(lambda x: ast.literal_eval(x))"
   ]
  },
  {
   "cell_type": "code",
   "execution_count": 72,
   "id": "261e8a5c",
   "metadata": {},
   "outputs": [
    {
     "name": "stderr",
     "output_type": "stream",
     "text": [
      "/tmp/ipykernel_5777/1145348155.py:2: FutureWarning: The default dtype for empty Series will be 'object' instead of 'float64' in a future version. Specify a dtype explicitly to silence this warning.\n",
      "  df_ase = df['Asesores'].apply(pd.Series).stack()\n"
     ]
    },
    {
     "name": "stdout",
     "output_type": "stream",
     "text": [
      "Subauste Oliden, Daniel Alejandro    95\n",
      "Mendívil, Eduardo                    38\n",
      "López, Samantha                      35\n",
      "Yana Motta, Dafny Margoth            26\n",
      "Armas Aguirre, Jimmy Alexander       26\n",
      "Santana Ormeño, Martín               24\n",
      "dtype: int64\n"
     ]
    }
   ],
   "source": [
    "# Separamos cada asesor de la lista en una fila independiente del dataframe\n",
    "df_ase = df['Asesores'].apply(pd.Series).stack()\n",
    "df_ase = df_ase.reset_index(level=1, drop=True)\n",
    "\n",
    "# Contamos cuántos artículos ha ayudado a publicar cada asesor\n",
    "asesores_por_articulo = df_ase.value_counts()\n",
    "\n",
    "# Mostramos el asesor que ha contribuido a más artículos\n",
    "print(asesores_por_articulo.head(6))"
   ]
  },
  {
   "cell_type": "code",
   "execution_count": 73,
   "id": "878dffb5",
   "metadata": {},
   "outputs": [
    {
     "name": "stdout",
     "output_type": "stream",
     "text": [
      "Rojas Tello, Francisco Alexander     2\n",
      "Galarreta Velarde, Anibal Antonio    2\n",
      "Ingaruca Cruzado, Cesar Miguel       2\n",
      "Masías Echeverría, Claudia Janet     2\n",
      "Tarazona Lévano, Cynthia             1\n",
      "Castañeda Reyes, Cinthya             1\n",
      "dtype: int64\n"
     ]
    }
   ],
   "source": [
    "# Separamos cada autor de la lista en una fila independiente del dataframe\n",
    "df_au = df['Autores'].apply(pd.Series).stack()\n",
    "df_au = df_au.reset_index(level=1, drop=True)\n",
    "\n",
    "# Contamos cuántos artículos ha publicado cada autor\n",
    "autores_por_articulo = df_au.value_counts()\n",
    "\n",
    "# Mostramos el autor que ha publicado más artículos\n",
    "print(autores_por_articulo.head(6))"
   ]
  },
  {
   "cell_type": "code",
   "execution_count": 74,
   "id": "9e1a9ca2",
   "metadata": {},
   "outputs": [
    {
     "name": "stdout",
     "output_type": "stream",
     "text": [
      "2    0.656881\n",
      "1    0.196330\n",
      "4    0.082569\n",
      "5    0.040367\n",
      "3    0.023853\n",
      "Name: Numero de autores, dtype: float64\n"
     ]
    }
   ],
   "source": [
    "import pandas as pd\n",
    "\n",
    "# Creamos una nueva columna con el número de autores de cada artículo\n",
    "df['Numero de autores'] = df['Autores'].apply(lambda x: len(x))\n",
    "\n",
    "# Contamos cuántos artículos hay con cada número de autores\n",
    "numero_de_autores = df['Numero de autores'].value_counts()\n",
    "\n",
    "# Calculamos la proporción de artículos con cada número de autores\n",
    "proporcion_de_articulos = numero_de_autores / df.shape[0]\n",
    "\n",
    "print(proporcion_de_articulos)"
   ]
  },
  {
   "cell_type": "code",
   "execution_count": 75,
   "id": "8dd79202",
   "metadata": {},
   "outputs": [
    {
     "name": "stdout",
     "output_type": "stream",
     "text": [
      "2.1137614678899084\n"
     ]
    }
   ],
   "source": [
    "# Creamos una nueva columna con el número de autores de cada artículo\n",
    "df['Numero de autores'] = df['Autores'].apply(lambda x: len(x))\n",
    "\n",
    "# Calculamos la media de autores por artículo\n",
    "media_de_autores = df['Numero de autores'].mean()\n",
    "\n",
    "print(media_de_autores)\n"
   ]
  },
  {
   "cell_type": "code",
   "execution_count": 76,
   "id": "e6d05f9d",
   "metadata": {},
   "outputs": [
    {
     "name": "stdout",
     "output_type": "stream",
     "text": [
      "1.198165137614679\n"
     ]
    }
   ],
   "source": [
    "# Creamos una nueva columna con el número de autores de cada artículo\n",
    "df['Numero de asesores'] = df['Asesores'].apply(lambda x: len(x))\n",
    "\n",
    "# Calculamos la media de autores por artículo\n",
    "media_de_asesores = df['Numero de asesores'].mean()\n",
    "\n",
    "print(media_de_asesores)"
   ]
  }
 ],
 "metadata": {
  "kernelspec": {
   "display_name": "Python 3 (ipykernel)",
   "language": "python",
   "name": "python3"
  },
  "language_info": {
   "codemirror_mode": {
    "name": "ipython",
    "version": 3
   },
   "file_extension": ".py",
   "mimetype": "text/x-python",
   "name": "python",
   "nbconvert_exporter": "python",
   "pygments_lexer": "ipython3",
   "version": "3.9.12"
  }
 },
 "nbformat": 4,
 "nbformat_minor": 5
}
